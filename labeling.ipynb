{
 "cells": [
  {
   "cell_type": "code",
   "execution_count": 1,
   "source": [
    "import os\n",
    "import PIL\n",
    "import pandas as pd\n",
    "import numpy as np\n",
    "import matplotlib.pyplot as plt\n",
    "import seaborn\n",
    "\n",
    "import torch"
   ],
   "outputs": [],
   "metadata": {}
  },
  {
   "cell_type": "code",
   "execution_count": 2,
   "source": [
    "path = '/opt/ml/input/data/train'\n",
    "csv_path = os.path.join(path, 'train.csv')\n",
    "\n",
    "df = pd.read_csv(csv_path)\n",
    "df"
   ],
   "outputs": [
    {
     "output_type": "execute_result",
     "data": {
      "text/plain": [
       "          id  gender   race  age                    path\n",
       "0     000001  female  Asian   45  000001_female_Asian_45\n",
       "1     000002  female  Asian   52  000002_female_Asian_52\n",
       "2     000004    male  Asian   54    000004_male_Asian_54\n",
       "3     000005  female  Asian   58  000005_female_Asian_58\n",
       "4     000006  female  Asian   59  000006_female_Asian_59\n",
       "...      ...     ...    ...  ...                     ...\n",
       "2695  006954    male  Asian   19    006954_male_Asian_19\n",
       "2696  006955    male  Asian   19    006955_male_Asian_19\n",
       "2697  006956    male  Asian   19    006956_male_Asian_19\n",
       "2698  006957    male  Asian   20    006957_male_Asian_20\n",
       "2699  006959    male  Asian   19    006959_male_Asian_19\n",
       "\n",
       "[2700 rows x 5 columns]"
      ],
      "text/html": [
       "<div>\n",
       "<style scoped>\n",
       "    .dataframe tbody tr th:only-of-type {\n",
       "        vertical-align: middle;\n",
       "    }\n",
       "\n",
       "    .dataframe tbody tr th {\n",
       "        vertical-align: top;\n",
       "    }\n",
       "\n",
       "    .dataframe thead th {\n",
       "        text-align: right;\n",
       "    }\n",
       "</style>\n",
       "<table border=\"1\" class=\"dataframe\">\n",
       "  <thead>\n",
       "    <tr style=\"text-align: right;\">\n",
       "      <th></th>\n",
       "      <th>id</th>\n",
       "      <th>gender</th>\n",
       "      <th>race</th>\n",
       "      <th>age</th>\n",
       "      <th>path</th>\n",
       "    </tr>\n",
       "  </thead>\n",
       "  <tbody>\n",
       "    <tr>\n",
       "      <th>0</th>\n",
       "      <td>000001</td>\n",
       "      <td>female</td>\n",
       "      <td>Asian</td>\n",
       "      <td>45</td>\n",
       "      <td>000001_female_Asian_45</td>\n",
       "    </tr>\n",
       "    <tr>\n",
       "      <th>1</th>\n",
       "      <td>000002</td>\n",
       "      <td>female</td>\n",
       "      <td>Asian</td>\n",
       "      <td>52</td>\n",
       "      <td>000002_female_Asian_52</td>\n",
       "    </tr>\n",
       "    <tr>\n",
       "      <th>2</th>\n",
       "      <td>000004</td>\n",
       "      <td>male</td>\n",
       "      <td>Asian</td>\n",
       "      <td>54</td>\n",
       "      <td>000004_male_Asian_54</td>\n",
       "    </tr>\n",
       "    <tr>\n",
       "      <th>3</th>\n",
       "      <td>000005</td>\n",
       "      <td>female</td>\n",
       "      <td>Asian</td>\n",
       "      <td>58</td>\n",
       "      <td>000005_female_Asian_58</td>\n",
       "    </tr>\n",
       "    <tr>\n",
       "      <th>4</th>\n",
       "      <td>000006</td>\n",
       "      <td>female</td>\n",
       "      <td>Asian</td>\n",
       "      <td>59</td>\n",
       "      <td>000006_female_Asian_59</td>\n",
       "    </tr>\n",
       "    <tr>\n",
       "      <th>...</th>\n",
       "      <td>...</td>\n",
       "      <td>...</td>\n",
       "      <td>...</td>\n",
       "      <td>...</td>\n",
       "      <td>...</td>\n",
       "    </tr>\n",
       "    <tr>\n",
       "      <th>2695</th>\n",
       "      <td>006954</td>\n",
       "      <td>male</td>\n",
       "      <td>Asian</td>\n",
       "      <td>19</td>\n",
       "      <td>006954_male_Asian_19</td>\n",
       "    </tr>\n",
       "    <tr>\n",
       "      <th>2696</th>\n",
       "      <td>006955</td>\n",
       "      <td>male</td>\n",
       "      <td>Asian</td>\n",
       "      <td>19</td>\n",
       "      <td>006955_male_Asian_19</td>\n",
       "    </tr>\n",
       "    <tr>\n",
       "      <th>2697</th>\n",
       "      <td>006956</td>\n",
       "      <td>male</td>\n",
       "      <td>Asian</td>\n",
       "      <td>19</td>\n",
       "      <td>006956_male_Asian_19</td>\n",
       "    </tr>\n",
       "    <tr>\n",
       "      <th>2698</th>\n",
       "      <td>006957</td>\n",
       "      <td>male</td>\n",
       "      <td>Asian</td>\n",
       "      <td>20</td>\n",
       "      <td>006957_male_Asian_20</td>\n",
       "    </tr>\n",
       "    <tr>\n",
       "      <th>2699</th>\n",
       "      <td>006959</td>\n",
       "      <td>male</td>\n",
       "      <td>Asian</td>\n",
       "      <td>19</td>\n",
       "      <td>006959_male_Asian_19</td>\n",
       "    </tr>\n",
       "  </tbody>\n",
       "</table>\n",
       "<p>2700 rows × 5 columns</p>\n",
       "</div>"
      ]
     },
     "metadata": {},
     "execution_count": 2
    }
   ],
   "metadata": {}
  },
  {
   "cell_type": "code",
   "execution_count": 3,
   "source": [
    "img_dir_list = [os.path.join(path, 'images', x) for x in df['path']]\n",
    "img_dir_list[:5]"
   ],
   "outputs": [
    {
     "output_type": "execute_result",
     "data": {
      "text/plain": [
       "['/opt/ml/input/data/train/images/000001_female_Asian_45',\n",
       " '/opt/ml/input/data/train/images/000002_female_Asian_52',\n",
       " '/opt/ml/input/data/train/images/000004_male_Asian_54',\n",
       " '/opt/ml/input/data/train/images/000005_female_Asian_58',\n",
       " '/opt/ml/input/data/train/images/000006_female_Asian_59']"
      ]
     },
     "metadata": {},
     "execution_count": 3
    }
   ],
   "metadata": {}
  },
  {
   "cell_type": "code",
   "execution_count": 4,
   "source": [
    "# image size\n",
    "img = PIL.Image.open(os.path.join(path, 'images', img_dir_list[0], os.listdir(img_dir_list[0])[0]))\n",
    "print(img.size)"
   ],
   "outputs": [
    {
     "output_type": "stream",
     "name": "stdout",
     "text": [
      "(384, 512)\n"
     ]
    }
   ],
   "metadata": {}
  },
  {
   "cell_type": "code",
   "execution_count": 5,
   "source": [
    "# gender\n",
    "print(df.groupby('gender')['age'].value_counts())"
   ],
   "outputs": [
    {
     "output_type": "stream",
     "name": "stdout",
     "text": [
      "gender  age\n",
      "female  19     200\n",
      "        20     187\n",
      "        18     151\n",
      "        58     109\n",
      "        60     109\n",
      "              ... \n",
      "male    37       2\n",
      "        42       2\n",
      "        36       1\n",
      "        44       1\n",
      "        47       1\n",
      "Name: age, Length: 84, dtype: int64\n"
     ]
    }
   ],
   "metadata": {}
  },
  {
   "cell_type": "code",
   "execution_count": 6,
   "source": [
    "age_list = [] # {0: <30, 1: >=30 <60, 2: >=60}\n",
    "mask_list = [] # {0: mask, 1: incorrect, 2: not wear}\n",
    "gender_list = [] # {0: male, 1:female}\n",
    "path_list = []\n",
    "\n",
    "for dir_name in img_dir_list:\n",
    "    img_dir_path = os.path.join(path, 'images', dir_name)\n",
    "    gender = dir_name.split('_')[1]\n",
    "    if gender == 'female':\n",
    "        gender = 1\n",
    "    else:\n",
    "        gender = 0\n",
    "    \n",
    "    age = int(dir_name.split('_')[-1])\n",
    "    if age < 30:\n",
    "        age = 0\n",
    "    elif age >= 30 and age < 60:\n",
    "        age = 1\n",
    "    elif age >= 60:\n",
    "        age = 2\n",
    "\n",
    "    for img in os.listdir(img_dir_path):\n",
    "        if '._' in img:\n",
    "            continue\n",
    "        elif 'mask' in img:\n",
    "            age_list.append(age)\n",
    "            gender_list.append(gender)\n",
    "            mask_list.append(0)\n",
    "            path_list.append(os.path.join(path, 'images', dir_name, img))\n",
    "        elif 'incorrect_mask' in img:\n",
    "            age_list.append(age)\n",
    "            gender_list.append(gender)\n",
    "            mask_list.append(1)\n",
    "            path_list.append(os.path.join(path, 'images', dir_name, img))\n",
    "        elif 'normal' in img:\n",
    "            age_list.append(age)\n",
    "            gender_list.append(gender)\n",
    "            mask_list.append(2)\n",
    "            path_list.append(os.path.join(path, 'images', dir_name, img))\n",
    "\n"
   ],
   "outputs": [],
   "metadata": {}
  },
  {
   "cell_type": "code",
   "execution_count": 8,
   "source": [
    "print(len(age_list))\n",
    "print(len(gender_list))\n",
    "print(len(mask_list))\n",
    "print(len(path_list))"
   ],
   "outputs": [
    {
     "output_type": "stream",
     "name": "stdout",
     "text": [
      "18900\n",
      "18900\n",
      "18900\n",
      "18900\n"
     ]
    }
   ],
   "metadata": {}
  },
  {
   "cell_type": "code",
   "execution_count": 9,
   "source": [
    "labels = []\n",
    "images = []\n",
    "for age, gender, mask, img in zip(age_list, gender_list, mask_list, path_list):\n",
    "    if mask == 0 and gender == 0 and age == 0:\n",
    "        labels.append(0)\n",
    "        images.append(img)\n",
    "    elif mask == 0 and gender == 0 and age == 1:\n",
    "        labels.append(1)\n",
    "        images.append(img)\n",
    "    elif mask == 0 and gender == 0 and age == 2:\n",
    "        labels.append(2)\n",
    "        images.append(img)\n",
    "    elif mask == 0 and gender == 1 and age == 0:\n",
    "        labels.append(3)\n",
    "        images.append(img)\n",
    "    elif mask == 0 and gender == 1 and age == 1:\n",
    "        labels.append(4)\n",
    "        images.append(img)\n",
    "    elif mask == 0 and gender == 1 and age == 2:\n",
    "        labels.append(5)\n",
    "        images.append(img)\n",
    "    elif mask == 1 and gender == 0 and age == 0:\n",
    "        labels.append(6)\n",
    "        images.append(img)\n",
    "    elif mask == 1 and gender == 0 and age == 1:\n",
    "        labels.append(7)\n",
    "        images.append(img)\n",
    "    elif mask == 1 and gender == 0 and age == 2:\n",
    "        labels.append(8)\n",
    "        images.append(img)\n",
    "    elif mask == 1 and gender == 1 and age == 0:\n",
    "        labels.append(9)\n",
    "        images.append(img)\n",
    "    elif mask == 1 and gender == 1 and age == 1:\n",
    "        labels.append(10)\n",
    "        images.append(img)\n",
    "    elif mask == 1 and gender == 1 and age == 2:\n",
    "        labels.append(11)\n",
    "        images.append(img)\n",
    "    if mask == 2 and gender == 0 and age == 0:\n",
    "        labels.append(12)\n",
    "        images.append(img)\n",
    "    elif mask == 2 and gender == 0 and age == 1:\n",
    "        labels.append(13)\n",
    "        images.append(img)\n",
    "    elif mask == 2 and gender == 0 and age == 2:\n",
    "        labels.append(14)\n",
    "        images.append(img)\n",
    "    elif mask == 2 and gender == 1 and age == 0:\n",
    "        labels.append(15)\n",
    "        images.append(img)\n",
    "    elif mask == 2 and gender == 1 and age == 1:\n",
    "        labels.append(16)\n",
    "        images.append(img)\n",
    "    elif mask == 2 and gender == 1 and age == 2:\n",
    "        labels.append(17)\n",
    "        images.append(img)\n",
    "\n"
   ],
   "outputs": [],
   "metadata": {}
  },
  {
   "cell_type": "code",
   "execution_count": 10,
   "source": [
    "print(len(labels))\n",
    "print(len(images))"
   ],
   "outputs": [
    {
     "output_type": "stream",
     "name": "stdout",
     "text": [
      "18900\n",
      "18900\n"
     ]
    }
   ],
   "metadata": {}
  },
  {
   "cell_type": "code",
   "execution_count": 17,
   "source": [
    "import csv\n",
    "\n",
    "with open('/opt/ml/labels.csv', 'w', newline='') as f:\n",
    "    writer = csv.writer(f)\n",
    "    writer.writerow(labels)\n",
    "\n",
    "with open('/opt/ml/images.csv', 'w', newline='') as f:\n",
    "    writer = csv.writer(f)\n",
    "    writer.writerow(images)\n",
    "\n"
   ],
   "outputs": [],
   "metadata": {}
  },
  {
   "cell_type": "code",
   "execution_count": 18,
   "source": [
    "with open('/opt/ml/genders.csv', 'w', newline='') as f:\n",
    "    writer = csv.writer(f)\n",
    "    writer.writerow(gender_list)\n",
    "\n",
    "with open('/opt/ml/ages.csv', 'w', newline='') as f:\n",
    "    writer = csv.writer(f)\n",
    "    writer.writerow(age_list)\n",
    "\n",
    "with open('/opt/ml/masks.csv', 'w', newline='') as f:\n",
    "    writer = csv.writer(f)\n",
    "    writer.writerow(mask_list)"
   ],
   "outputs": [],
   "metadata": {}
  },
  {
   "cell_type": "code",
   "execution_count": null,
   "source": [],
   "outputs": [],
   "metadata": {}
  }
 ],
 "metadata": {
  "orig_nbformat": 4,
  "language_info": {
   "name": "python",
   "version": "3.8.5",
   "mimetype": "text/x-python",
   "codemirror_mode": {
    "name": "ipython",
    "version": 3
   },
   "pygments_lexer": "ipython3",
   "nbconvert_exporter": "python",
   "file_extension": ".py"
  },
  "kernelspec": {
   "name": "python3",
   "display_name": "Python 3.8.5 64-bit ('base': conda)"
  },
  "interpreter": {
   "hash": "98b0a9b7b4eaaa670588a142fd0a9b87eaafe866f1db4228be72b4211d12040f"
  }
 },
 "nbformat": 4,
 "nbformat_minor": 2
}